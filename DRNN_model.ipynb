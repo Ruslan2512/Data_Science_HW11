{
 "cells": [
  {
   "cell_type": "code",
   "execution_count": 1,
   "id": "92f91220",
   "metadata": {},
   "outputs": [
    {
     "name": "stderr",
     "output_type": "stream",
     "text": [
      "D:\\Anaconda\\lib\\site-packages\\scipy\\__init__.py:146: UserWarning: A NumPy version >=1.16.5 and <1.23.0 is required for this version of SciPy (detected version 1.26.0\n",
      "  warnings.warn(f\"A NumPy version >={np_minversion} and <{np_maxversion}\"\n"
     ]
    }
   ],
   "source": [
    "import matplotlib.pyplot as plt\n",
    "from keras.datasets import imdb\n",
    "from keras.utils import pad_sequences\n",
    "from keras.models import Sequential\n",
    "from keras.layers import Embedding, Bidirectional, LSTM, Dense"
   ]
  },
  {
   "cell_type": "code",
   "execution_count": 2,
   "id": "32440767",
   "metadata": {},
   "outputs": [],
   "source": [
    "max_features = 10000\n",
    "maxlen = 500\n",
    "batch_size = 32"
   ]
  },
  {
   "cell_type": "code",
   "execution_count": 3,
   "id": "98291168",
   "metadata": {},
   "outputs": [],
   "source": [
    "(input_train, y_train), (input_test, y_test) = imdb.load_data(num_words=max_features)"
   ]
  },
  {
   "cell_type": "code",
   "execution_count": 4,
   "id": "4bde494c",
   "metadata": {},
   "outputs": [],
   "source": [
    "input_train = pad_sequences(input_train, maxlen=maxlen)\n",
    "input_test = pad_sequences(input_test, maxlen=maxlen)"
   ]
  },
  {
   "cell_type": "code",
   "execution_count": 5,
   "id": "7a55793e",
   "metadata": {},
   "outputs": [],
   "source": [
    "model = Sequential()\n",
    "\n",
    "model.add(Embedding(max_features, 32))\n",
    "\n",
    "model.add(Bidirectional(LSTM(32, return_sequences=True)))\n",
    "model.add(Bidirectional(LSTM(32)))\n",
    "\n",
    "model.add(Dense(1, activation='sigmoid'))"
   ]
  },
  {
   "cell_type": "code",
   "execution_count": 7,
   "id": "83c17869",
   "metadata": {},
   "outputs": [],
   "source": [
    "model.compile(optimizer='adam', loss='binary_crossentropy', metrics=['accuracy'])"
   ]
  },
  {
   "cell_type": "code",
   "execution_count": 8,
   "id": "ae76419c",
   "metadata": {},
   "outputs": [
    {
     "name": "stdout",
     "output_type": "stream",
     "text": [
      "Model: \"sequential\"\n",
      "_________________________________________________________________\n",
      " Layer (type)                Output Shape              Param #   \n",
      "=================================================================\n",
      " embedding (Embedding)       (None, None, 32)          320000    \n",
      "                                                                 \n",
      " bidirectional (Bidirectiona  (None, None, 64)         16640     \n",
      " l)                                                              \n",
      "                                                                 \n",
      " bidirectional_1 (Bidirectio  (None, 64)               24832     \n",
      " nal)                                                            \n",
      "                                                                 \n",
      " dense (Dense)               (None, 1)                 65        \n",
      "                                                                 \n",
      "=================================================================\n",
      "Total params: 361,537\n",
      "Trainable params: 361,537\n",
      "Non-trainable params: 0\n",
      "_________________________________________________________________\n"
     ]
    }
   ],
   "source": [
    "model.summary()"
   ]
  },
  {
   "cell_type": "code",
   "execution_count": 9,
   "id": "804a1271",
   "metadata": {},
   "outputs": [
    {
     "name": "stdout",
     "output_type": "stream",
     "text": [
      "Epoch 1/5\n",
      "137/137 [==============================] - 286s 2s/step - loss: 0.4795 - accuracy: 0.7472 - val_loss: 0.2939 - val_accuracy: 0.8804\n",
      "Epoch 2/5\n",
      "137/137 [==============================] - 274s 2s/step - loss: 0.2468 - accuracy: 0.9073 - val_loss: 0.3161 - val_accuracy: 0.8703\n",
      "Epoch 3/5\n",
      "137/137 [==============================] - 476s 3s/step - loss: 0.1564 - accuracy: 0.9458 - val_loss: 0.3393 - val_accuracy: 0.8683\n",
      "Epoch 4/5\n",
      "137/137 [==============================] - 474s 3s/step - loss: 0.1095 - accuracy: 0.9643 - val_loss: 0.3662 - val_accuracy: 0.8749\n",
      "Epoch 5/5\n",
      "137/137 [==============================] - 351s 3s/step - loss: 0.0731 - accuracy: 0.9789 - val_loss: 0.4357 - val_accuracy: 0.8707\n"
     ]
    }
   ],
   "source": [
    "history = model.fit(input_train, y_train, epochs=5, batch_size=128, validation_split=0.3)"
   ]
  },
  {
   "cell_type": "code",
   "execution_count": 10,
   "id": "8e0b7bd0",
   "metadata": {},
   "outputs": [
    {
     "name": "stdout",
     "output_type": "stream",
     "text": [
      "dict_keys(['loss', 'accuracy', 'val_loss', 'val_accuracy'])\n"
     ]
    }
   ],
   "source": [
    "print(history.history.keys())"
   ]
  },
  {
   "cell_type": "code",
   "execution_count": 11,
   "id": "67de249d",
   "metadata": {},
   "outputs": [
    {
     "data": {
      "image/png": "[encoded data removed]",
      "text/plain": [
       "<Figure size 432x288 with 1 Axes>"
      ]
     },
     "metadata": {
      "needs_background": "light"
     },
     "output_type": "display_data"
    },
    {
     "data": {
      "image/png": "[encoded data removed]",
      "text/plain": [
       "<Figure size 432x288 with 1 Axes>"
      ]
     },
     "metadata": {
      "needs_background": "light"
     },
     "output_type": "display_data"
    }
   ],
   "source": [
    "accuracy = history.history['accuracy']\n",
    "val_accuracy = history.history['val_accuracy']\n",
    "loss = history.history['loss']\n",
    "val_loss = history.history['val_loss']\n",
    "\n",
    "epochs = range(1, len(accuracy) + 1)\n",
    "\n",
    "plt.plot(epochs, accuracy, 'bo', label='Точність на тренуванні')\n",
    "plt.plot(epochs, val_accuracy, 'b', label='Точність на валідації')\n",
    "plt.title('Точність тренування і валідації')\n",
    "plt.legend()\n",
    "\n",
    "plt.figure()\n",
    "\n",
    "plt.plot(epochs, loss, 'bo', label='Втрати на тренуванні')\n",
    "plt.plot(epochs, val_loss, 'b', label='Втрати на валідації')\n",
    "plt.title('Втрати тренування і валідації')\n",
    "plt.legend()\n",
    "\n",
    "plt.show()"
   ]
  },
  {
   "cell_type": "code",
   "execution_count": 12,
   "id": "0211743c",
   "metadata": {},
   "outputs": [
    {
     "name": "stdout",
     "output_type": "stream",
     "text": [
      "782/782 [==============================] - 44s 56ms/step\n",
      "Прогнозоване: 0, Фактичне: 0\n",
      "Прогнозоване: 1, Фактичне: 1\n",
      "Прогнозоване: 0, Фактичне: 1\n",
      "Прогнозоване: 1, Фактичне: 0\n",
      "Прогнозоване: 1, Фактичне: 1\n",
      "Прогнозоване: 1, Фактичне: 1\n",
      "Прогнозоване: 1, Фактичне: 1\n",
      "Прогнозоване: 0, Фактичне: 0\n",
      "Прогнозоване: 1, Фактичне: 0\n",
      "Прогнозоване: 1, Фактичне: 1\n",
      "782/782 [==============================] - 45s 57ms/step - loss: 0.4489 - accuracy: 0.8628\n",
      "Test Accuracy: 86.28%\n"
     ]
    }
   ],
   "source": [
    "predictions = model.predict(input_test)\n",
    "\n",
    "binary_predictions = [1 if pred > 0.5 else 0 for pred in predictions]\n",
    "\n",
    "for i in range(10):\n",
    "    print(f\"Прогнозоване: {binary_predictions[i]}, Фактичне: {y_test[i]}\")\n",
    "\n",
    "test_loss, test_acc = model.evaluate(input_test, y_test)\n",
    "print('Test Accuracy: {:.2f}%'.format(test_acc * 100))"
   ]
  },
  {
   "cell_type": "code",
   "execution_count": null,
   "id": "a89b4dc4",
   "metadata": {},
   "outputs": [],
   "source": [
    "Висновок: Час виконання 5-ти епох - 31 хв. 1 сек. Точність склала 86.3%"
   ]
  }
 ],
 "metadata": {
  "kernelspec": {
   "display_name": "Python 3 (ipykernel)",
   "language": "python",
   "name": "python3"
  },
  "language_info": {
   "codemirror_mode": {
    "name": "ipython",
    "version": 3
   },
   "file_extension": ".py",
   "mimetype": "text/x-python",
   "name": "python",
   "nbconvert_exporter": "python",
   "pygments_lexer": "ipython3",
   "version": "3.9.7"
  }
 },
 "nbformat": 4,
 "nbformat_minor": 5
}
